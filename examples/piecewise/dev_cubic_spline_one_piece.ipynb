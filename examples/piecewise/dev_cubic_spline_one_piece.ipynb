{
 "cells": [
  {
   "cell_type": "code",
   "execution_count": 1,
   "id": "180bbaec",
   "metadata": {},
   "outputs": [],
   "source": [
    "import numpy as np\n",
    "import matplotlib.pyplot as plt\n",
    "from mrobotics.piecewise.cubic_onepiece import spline_2d_onepiece"
   ]
  },
  {
   "cell_type": "code",
   "execution_count": 2,
   "id": "82c2fccd",
   "metadata": {
    "scrolled": false
   },
   "outputs": [
    {
     "data": {
      "image/png": "[encoded data removed]",
      "text/plain": [
       "<Figure size 432x288 with 1 Axes>"
      ]
     },
     "metadata": {
      "needs_background": "light"
     },
     "output_type": "display_data"
    }
   ],
   "source": [
    "p0 = [0,-1.0]\n",
    "v0 = [0, 3]\n",
    "p1 = [4,3]\n",
    "v1 = [0,5.0]\n",
    "t0, t1 = 0.2, 1.5 # larger time gap leads to more bendy curve...\n",
    "my_curve = spline_2d_onepiece(t0=t0, t1=t1)\n",
    "my_curve.fit_pos_vel_ends(p0, v0 ,p1, v1)\n",
    "\n",
    "_, ax = plt.subplots()\n",
    "my_curve.vis_curve(ax=ax, marker='o', markevery=10)\n",
    "ax.set_aspect('equal')\n",
    "ax.grid('major')\n",
    "ax.set_title(f'This curve has a length of {my_curve.calc_arc_length():.2f} m')\n",
    "plt.show()"
   ]
  },
  {
   "cell_type": "markdown",
   "id": "dd3729cb",
   "metadata": {},
   "source": [
    "## More validation"
   ]
  },
  {
   "cell_type": "code",
   "execution_count": 3,
   "id": "36223c28",
   "metadata": {},
   "outputs": [
    {
     "data": {
      "text/plain": [
       "array([0.        , 0.11111111, 0.22222222, 0.33333333, 0.44444444,\n",
       "       0.55555556, 0.66666667, 0.77777778, 0.88888889, 1.        ])"
      ]
     },
     "execution_count": 3,
     "metadata": {},
     "output_type": "execute_result"
    }
   ],
   "source": [
    "my_curve.normalize_parameter(np.linspace(t0,t1,10))"
   ]
  },
  {
   "cell_type": "code",
   "execution_count": 4,
   "id": "7b29b8c3",
   "metadata": {
    "scrolled": true
   },
   "outputs": [
    {
     "data": {
      "text/plain": [
       "array([[ 0. , -1. ],\n",
       "       [ 0. ,  3.9],\n",
       "       [12. , -2.3],\n",
       "       [-8. ,  2.4]])"
      ]
     },
     "execution_count": 4,
     "metadata": {},
     "output_type": "execute_result"
    }
   ],
   "source": [
    "my_curve.coeff"
   ]
  },
  {
   "cell_type": "markdown",
   "id": "e40b6b2f",
   "metadata": {},
   "source": [
    "### some valdiation of the tangent vector method?"
   ]
  },
  {
   "cell_type": "code",
   "execution_count": 5,
   "id": "2c616dd7",
   "metadata": {},
   "outputs": [],
   "source": [
    "num_samples = 5+1 # to exaggrate the effect\n",
    "t_eval = np.linspace(t0,t1, num_samples)\n",
    "velocity = my_curve.get_tang(t_eval)\n",
    "delta_t = t_eval[1]-t_eval[0]\n",
    "xy_by_integration = np.zeros((num_samples,2))\n",
    "xy_by_integration[0] = p0\n",
    "for i in range(1, num_samples): \n",
    "    xy_by_integration[i] = xy_by_integration[i-1] + 0.5*(velocity[i-1]+velocity[i])*delta_t"
   ]
  },
  {
   "cell_type": "code",
   "execution_count": 6,
   "id": "94bfb9a5",
   "metadata": {},
   "outputs": [
    {
     "data": {
      "text/plain": [
       "array([0.2 , 0.46, 0.72, 0.98, 1.24, 1.5 ])"
      ]
     },
     "execution_count": 6,
     "metadata": {},
     "output_type": "execute_result"
    }
   ],
   "source": [
    "t_eval"
   ]
  },
  {
   "cell_type": "code",
   "execution_count": 7,
   "id": "5e500f48",
   "metadata": {},
   "outputs": [
    {
     "data": {
      "text/plain": [
       "array([[0.        , 3.        ],\n",
       "       [2.95384615, 2.51384615],\n",
       "       [4.43076923, 2.47076923],\n",
       "       [4.43076923, 2.87076923],\n",
       "       [2.95384615, 3.71384615]])"
      ]
     },
     "execution_count": 7,
     "metadata": {},
     "output_type": "execute_result"
    }
   ],
   "source": [
    "velocity[:5]"
   ]
  },
  {
   "cell_type": "code",
   "execution_count": 8,
   "id": "353a14fa",
   "metadata": {},
   "outputs": [
    {
     "data": {
      "image/png": "[encoded data removed]",
      "text/plain": [
       "<Figure size 432x288 with 1 Axes>"
      ]
     },
     "metadata": {
      "needs_background": "light"
     },
     "output_type": "display_data"
    }
   ],
   "source": [
    "_, ax = plt.subplots()\n",
    "my_curve.vis_curve(ax=ax, marker='o', markevery=10, label=\"evaluated\")\n",
    "ax.plot(*xy_by_integration.T, label=\"integrated\")\n",
    "ax.set_aspect('equal')\n",
    "ax.grid('major')\n",
    "ax.legend()\n",
    "plt.axis()\n",
    "plt.show()"
   ]
  },
  {
   "cell_type": "code",
   "execution_count": null,
   "id": "3ab8929e",
   "metadata": {},
   "outputs": [],
   "source": []
  }
 ],
 "metadata": {
  "kernelspec": {
   "display_name": "fsd-ipython",
   "language": "python",
   "name": "fsd-ipython"
  },
  "language_info": {
   "codemirror_mode": {
    "name": "ipython",
    "version": 3
   },
   "file_extension": ".py",
   "mimetype": "text/x-python",
   "name": "python",
   "nbconvert_exporter": "python",
   "pygments_lexer": "ipython3",
   "version": "3.8.10"
  },
  "vscode": {
   "interpreter": {
    "hash": "11bd5c0b783b2ce0cdbcf37ce406079563c4df7d8e7a14cebbaae8e8175f6bdb"
   }
  }
 },
 "nbformat": 4,
 "nbformat_minor": 5
}
